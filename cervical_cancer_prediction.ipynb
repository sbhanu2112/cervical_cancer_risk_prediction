{
 "cells": [
  {
   "cell_type": "markdown",
   "id": "8de1aa84-4d70-4086-a29d-426f421b75a7",
   "metadata": {},
   "source": [
    "# Importing Libraries"
   ]
  },
  {
   "cell_type": "code",
   "execution_count": null,
   "id": "f5c93557-d89d-40b6-a2f2-621c266b3f79",
   "metadata": {},
   "outputs": [],
   "source": [
    "import pandas as pd\n",
    "import numpy as np\n",
    "import seaborn as sns\n",
    "import matplotlib.pyplot as plt\n",
    "import zipfile\n",
    "import sys\n",
    "\n",
    "!{sys.executable} -m pip install plotly\n",
    "import plotly.express as px\n",
    "from jupyterthemes import jtplot\n",
    "jtplot.style(theme = 'monokai', context = 'notebook', ticks = True, grid = False) "
   ]
  },
  {
   "cell_type": "markdown",
   "id": "074af6a3-91bb-4364-ad3d-8d59accebde5",
   "metadata": {},
   "source": [
    "# Data Cleaning\n"
   ]
  },
  {
   "cell_type": "code",
   "execution_count": null,
   "id": "d3a7aa05-5ce2-4859-b563-12ce401f2091",
   "metadata": {},
   "outputs": [],
   "source": [
    "data = pd.read_csv(\"cervical_cancer.csv\") # reading the data\n",
    "\n",
    "data.info()"
   ]
  },
  {
   "cell_type": "code",
   "execution_count": null,
   "id": "eedf3fc4-22ab-4888-a9b5-9ed1ca28c518",
   "metadata": {},
   "outputs": [],
   "source": [
    "# Converting missing values to nan's\n",
    "data.replace('?', np.nan, inplace = True)\n",
    "data"
   ]
  },
  {
   "cell_type": "code",
   "execution_count": null,
   "id": "ae8e6309-6413-4efd-a6bc-1b6382fa8516",
   "metadata": {},
   "outputs": [],
   "source": [
    "# generating heatmap to see which columns have a lot of null values\n",
    "plt.figure(figsize = (20, 20))\n",
    "sns.heatmap(data.isnull())\n"
   ]
  },
  {
   "cell_type": "code",
   "execution_count": null,
   "id": "4391f001-2e8f-49f8-b6cf-18130e48bcbd",
   "metadata": {},
   "outputs": [],
   "source": [
    "# Removing the columns which were having a lot of Nan's and visualising\n",
    "data = data.drop(columns = ['STDs: Time since first diagnosis', 'STDs: Time since last diagnosis'])\n"
   ]
  },
  {
   "cell_type": "code",
   "execution_count": null,
   "id": "47352873-d070-425e-94ec-c6fcbf1725eb",
   "metadata": {},
   "outputs": [],
   "source": [
    "plt.figure(figsize = (20, 20))\n",
    "sns.heatmap(data.isnull())"
   ]
  },
  {
   "cell_type": "code",
   "execution_count": null,
   "id": "7e07edc9-caa9-40d8-b851-c7978df50440",
   "metadata": {},
   "outputs": [],
   "source": [
    "# Converting non numerics to numeric vals\n",
    "data = data.apply(pd.to_numeric, errors = 'coerce')\n",
    "data.info()\n"
   ]
  },
  {
   "cell_type": "code",
   "execution_count": null,
   "id": "62d1a114-11d5-43bd-9baf-10ebb61167ed",
   "metadata": {},
   "outputs": [],
   "source": [
    "data.mean()"
   ]
  },
  {
   "cell_type": "code",
   "execution_count": null,
   "id": "b746ffae-9772-4bca-9c08-b1629c29f550",
   "metadata": {},
   "outputs": [],
   "source": [
    "data = data.fillna(data.mean()) # filling na values with correspinding column mean"
   ]
  },
  {
   "cell_type": "code",
   "execution_count": null,
   "id": "6e47fb34-6b93-4371-94c2-df9bd9f3ecd7",
   "metadata": {},
   "outputs": [],
   "source": [
    "sns.heatmap(data.isna()) # the heat map suggests all the na's are effectively removed"
   ]
  },
  {
   "cell_type": "code",
   "execution_count": null,
   "id": "a084292e-8798-4008-81ac-c03bf63dbc73",
   "metadata": {},
   "outputs": [],
   "source": [
    "# getting correlation matrix\n",
    "corr_matrix = data.corr()\n",
    "corr_matrix"
   ]
  },
  {
   "cell_type": "code",
   "execution_count": null,
   "id": "34d4c3be-1398-47c9-8431-7cdd166c2695",
   "metadata": {},
   "outputs": [],
   "source": [
    "# Visualizing the correlation\n",
    "plt.figure(figsize = (30,30))\n",
    "sns.heatmap(corr_matrix, annot = True)\n",
    "plt.show()"
   ]
  },
  {
   "cell_type": "code",
   "execution_count": null,
   "id": "8fe97f7b-d7ad-4217-8103-3c36d04fb55d",
   "metadata": {},
   "outputs": [],
   "source": [
    "data.hist(figsize = (30, 30), bins= 11)  # creating histogram of all column values"
   ]
  },
  {
   "cell_type": "markdown",
   "id": "569081f3-a018-4227-9c69-3ade74fe7746",
   "metadata": {
    "collapsed": true,
    "jupyter": {
     "outputs_hidden": true
    }
   },
   "source": [
    "# Data Preprocessing"
   ]
  },
  {
   "cell_type": "code",
   "execution_count": null,
   "id": "438e66aa-918f-4683-bac5-ecac0c429ad5",
   "metadata": {},
   "outputs": [],
   "source": [
    "target_df = data['Biopsy']\n",
    "input_df = data.drop(columns = ['Biopsy'])"
   ]
  },
  {
   "cell_type": "code",
   "execution_count": null,
   "id": "8f4ff160-7c38-4841-9b3c-8fdf3e7597c4",
   "metadata": {},
   "outputs": [],
   "source": [
    "X = np.array(input_df).astype('float32')\n",
    "y = np.array(target_df).astype('float32')\n"
   ]
  },
  {
   "cell_type": "code",
   "execution_count": null,
   "id": "892b86a1-9b73-4af7-9108-d11565f85586",
   "metadata": {},
   "outputs": [],
   "source": [
    "# standardiszing the input matrix such that mean of each feature (column) is zero and sd is 1 (Z value)\n",
    "from sklearn.preprocessing import StandardScaler, MinMaxScaler\n",
    "scaler = StandardScaler()\n",
    "X = scaler.fit_transform(X)\n",
    "X"
   ]
  },
  {
   "cell_type": "code",
   "execution_count": null,
   "id": "a48931da-adf4-4227-84e5-f6d0e7881665",
   "metadata": {},
   "outputs": [],
   "source": [
    "# Splitting the data into test set and training set\n",
    "from sklearn.model_selection import train_test_split\n",
    "\n",
    "X_train, X_test, y_train, y_test = train_test_split(X, y, test_size = 0.2)\n"
   ]
  },
  {
   "cell_type": "markdown",
   "id": "947fdb1e-858c-40a3-8c4a-38eb63367694",
   "metadata": {},
   "source": [
    "# Applying XG-Boost"
   ]
  },
  {
   "cell_type": "code",
   "execution_count": null,
   "id": "db589bc1-b219-432b-8c61-6b38dc2491e1",
   "metadata": {},
   "outputs": [],
   "source": [
    "import sys\n",
    "!{sys.executable} -m pip install xgboost\n"
   ]
  },
  {
   "cell_type": "code",
   "execution_count": null,
   "id": "2d075063-1a07-4841-9529-e5efc66d2ef0",
   "metadata": {},
   "outputs": [],
   "source": [
    "import xgboost as xgb\n",
    "\n",
    "model = xgb.XGBClassifier(learning_rate = 0.1, max_depth = 50, n_estimators = 100)\n",
    "\n",
    "model.fit(X_train, y_train)  # Fitting the model\n"
   ]
  },
  {
   "cell_type": "code",
   "execution_count": null,
   "id": "3c5bca1f-f6c9-4fac-8c12-18121ab298c2",
   "metadata": {},
   "outputs": [],
   "source": [
    "accuracy_train = model.score(X_train, y_train)  # Checking accuracy of model\n",
    "accuracy_train"
   ]
  },
  {
   "cell_type": "code",
   "execution_count": null,
   "id": "aa9c2f4f-7a91-485f-8ef0-d5b552d9fc58",
   "metadata": {},
   "outputs": [],
   "source": [
    "accuracy_test = model.score(X_test, y_test)\n",
    "accuracy_test"
   ]
  },
  {
   "cell_type": "code",
   "execution_count": null,
   "id": "d7642410-f919-496c-8a4c-c1e95c84a083",
   "metadata": {},
   "outputs": [],
   "source": [
    "# make predictions on the test data\n",
    "y_predict = model.predict(X_test)"
   ]
  },
  {
   "cell_type": "code",
   "execution_count": null,
   "id": "2d2898fb-f927-4e56-a4bf-95cd6854186f",
   "metadata": {},
   "outputs": [],
   "source": [
    "# Viewing metrics of model\n",
    "from sklearn.metrics import confusion_matrix, classification_report\n",
    "print(classification_report(y_test, y_predict))"
   ]
  },
  {
   "cell_type": "code",
   "execution_count": null,
   "id": "07a4dd5c-52dd-4fed-bf58-8802aaed668c",
   "metadata": {},
   "outputs": [],
   "source": [
    "# generating confusion matrix to see how accurate was our model\n",
    "cm = confusion_matrix(y_predict, y_test)\n",
    "sns.heatmap(cm, annot = True)"
   ]
  },
  {
   "cell_type": "code",
   "execution_count": null,
   "id": "20ab612a-dff2-4d86-b8a1-d66b55c2959d",
   "metadata": {},
   "outputs": [],
   "source": []
  }
 ],
 "metadata": {
  "kernelspec": {
   "display_name": "Python [conda env:base] *",
   "language": "python",
   "name": "conda-base-py"
  },
  "language_info": {
   "codemirror_mode": {
    "name": "ipython",
    "version": 3
   },
   "file_extension": ".py",
   "mimetype": "text/x-python",
   "name": "python",
   "nbconvert_exporter": "python",
   "pygments_lexer": "ipython3",
   "version": "3.12.2"
  }
 },
 "nbformat": 4,
 "nbformat_minor": 5
}
